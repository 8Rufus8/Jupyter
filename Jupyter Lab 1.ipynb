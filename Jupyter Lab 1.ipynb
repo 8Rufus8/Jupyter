{
 "cells": [
  {
   "cell_type": "markdown",
   "id": "d7ce076f-3e77-4e7a-9ae9-a0d8c320e0fb",
   "metadata": {},
   "source": [
    "# Буркіна-Фасо\n",
    "\n",
    "## Основні факти\n",
    "\n",
    "* **Площа:** 274,200 км²\n",
    "* **Населення:** Близько 20 мільйонів осіб\n",
    "* **Державний устрій:** Парламентська республіка\n",
    "\n",
    "## Видатні персоналії\n",
    "\n",
    "* **Томас Санкара:** Державний діяч, президент Буркіна-Фасо з 1983 по 1987 рік.\n",
    "* **Оуагадугу Карім:** Актор, відомий своєю роботою в африканському та світовому кіно.\n",
    "\n",
    "## Пам'ятки культури та природи\n",
    "\n",
    "### Культурні об'єкти\n",
    "\n",
    "1. **Музей Манега:** Зберігає колекцію африканського мистецтва.\n",
    "2. **Замок Наконо:** Історична фортеця з доби Мосі.\n",
    "\n",
    "### Природні красоти\n",
    "\n",
    "* **Водоспад Банфінді:** Один із найвищих водоспадів у регіоні.\n",
    "* **Національний парк \"Арлі-Пенджаре\":** Зберігає різноманіття фауни та флори.\n",
    "\n",
    "## Флаг Буркіна-Фасо\n",
    "![Буркіна-Фасо](https://upload.wikimedia.org/wikipedia/commons/3/31/Flag_of_Burkina_Faso.svg)\n",
    "\n",
    "\n",
    "Джерело: [Wikipedia](https://uk.wikipedia.org/wiki/%D0%91%D1%83%D1%80%D0%BA%D1%96%D0%BD%D0%B0-%D0%A4%D0%B0%D1%81%D0%BE)\n"
   ]
  },
  {
   "cell_type": "code",
   "execution_count": 1,
   "id": "3115e7c8-b978-47f6-8595-04e9a1bfad2c",
   "metadata": {
    "tags": []
   },
   "outputs": [
    {
     "name": "stdin",
     "output_type": "stream",
     "text": [
      "Введіть перше число:  0\n"
     ]
    },
    {
     "name": "stdout",
     "output_type": "stream",
     "text": [
      "ділення на 0\n"
     ]
    },
    {
     "name": "stdin",
     "output_type": "stream",
     "text": [
      "Введіть перше число:  121\n",
      "Введіть друге число:  23\n"
     ]
    },
    {
     "name": "stdout",
     "output_type": "stream",
     "text": [
      "Найбільший спільний дільник чисел 121 і 23 є: 98\n"
     ]
    },
    {
     "name": "stdin",
     "output_type": "stream",
     "text": [
      "Введіть перше число:  121\n",
      "Введіть друге число:  11\n"
     ]
    },
    {
     "name": "stdout",
     "output_type": "stream",
     "text": [
      "Найбільший спільний дільник чисел 121 і 11 є: 110\n"
     ]
    },
    {
     "data": {
      "text/plain": [
       "110"
      ]
     },
     "execution_count": 1,
     "metadata": {},
     "output_type": "execute_result"
    }
   ],
   "source": [
    "def euclidean_algorithm(a, b):\n",
    "    # Алгоритм Евкліда\n",
    "    a, b = abs(a), abs(b)  # Використовуємо тільки не від'ємні значення\n",
    "    if a > b:\n",
    "         a = a - b\n",
    "    else:\n",
    "        b = b - a\n",
    "    return a\n",
    "def task_2():\n",
    "    #Перехоплення помилок\n",
    "    try:\n",
    "        # Запит користувача для введення двох чисел\n",
    "        a = int(input(\"Введіть перше число: \"))\n",
    "        #Пперевірка на 0\n",
    "        if a == 0:\n",
    "            print(\"ділення на 0\")\n",
    "            return 0\n",
    "            \n",
    "        b = int(input(\"Введіть друге число: \"))\n",
    "        #Пперевірка на 0\n",
    "        if b == 0:\n",
    "            print(\"ділення на 0\")\n",
    "            return 0\n",
    "        \n",
    "        else:\n",
    "        # Викликаємо функцію та виводимо результат\n",
    "\n",
    "            result = euclidean_algorithm(a, b)\n",
    "            print(f\"Найбільший спільний дільник чисел {a} і {b} є: {result}\")\n",
    "            return result\n",
    "    except:\n",
    "        print(\"Неприпустимі значення\")\n",
    "\n",
    "# Тестові приклади\n",
    "task_2()  # Введіть, наприклад, 16 і 36\n",
    "task_2()  # Введіть інші значення для перевірки\n",
    "task_2()  # Третій тестовий приклад\n"
   ]
  }
 ],
 "metadata": {
  "kernelspec": {
   "display_name": "Python 3 (ipykernel)",
   "language": "python",
   "name": "python3"
  },
  "language_info": {
   "codemirror_mode": {
    "name": "ipython",
    "version": 3
   },
   "file_extension": ".py",
   "mimetype": "text/x-python",
   "name": "python",
   "nbconvert_exporter": "python",
   "pygments_lexer": "ipython3",
   "version": "3.11.5"
  }
 },
 "nbformat": 4,
 "nbformat_minor": 5
}
